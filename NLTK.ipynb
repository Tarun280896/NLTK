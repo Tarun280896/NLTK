{
 "cells": [
  {
   "cell_type": "markdown",
   "metadata": {},
   "source": [
    "## Natural Language Processing"
   ]
  },
  {
   "cell_type": "code",
   "execution_count": 1,
   "metadata": {},
   "outputs": [],
   "source": [
    "import pandas as pd\n",
    "import numpy as np \n",
    "import nltk"
   ]
  },
  {
   "cell_type": "markdown",
   "metadata": {},
   "source": [
    "#### Hamming Distence \n",
    "    -Hamming distance between two strings of equal length is the number of positions at which the corresponding symbols are different. In other words, it measures the minimum number of substitutions required to change one string into the other, or the minimum number of errors that could have transformed one string into the other. "
   ]
  },
  {
   "cell_type": "code",
   "execution_count": 2,
   "metadata": {},
   "outputs": [
    {
     "data": {
      "text/plain": [
       "1"
      ]
     },
     "execution_count": 2,
     "metadata": {},
     "output_type": "execute_result"
    }
   ],
   "source": [
    "a = 'tarun'\n",
    "b = 'karun'\n",
    "dist = 0 \n",
    "c = list(zip(a,b))\n",
    "for i, j in c :\n",
    "    if i != j:\n",
    "        dist = dist+1\n",
    "dist"
   ]
  },
  {
   "cell_type": "markdown",
   "metadata": {},
   "source": [
    "### Sentence Tokenization \n",
    "    -Breaking text paragraphs into sentences"
   ]
  },
  {
   "cell_type": "code",
   "execution_count": 3,
   "metadata": {},
   "outputs": [],
   "source": [
    "from nltk.tokenize import sent_tokenize # sentence tokenizer\n",
    "\n",
    "text = \"\"\" Data science is a multi-disciplinary field that uses scientific methods, processes,algorithms and systems to extract knowledge and insights from structured and unstructured data.Data science is the same concept as data mining and big data: \"use the most powerful hardware,the most powerful programming systems, and the most efficient algorithms to solve problems\"\"\""
   ]
  },
  {
   "cell_type": "code",
   "execution_count": 4,
   "metadata": {},
   "outputs": [
    {
     "name": "stdout",
     "output_type": "stream",
     "text": [
      "[' Data science is a multi-disciplinary field that uses scientific methods, processes,algorithms and systems to extract knowledge and insights from structured and unstructured data.Data science is the same concept as data mining and big data: \"use the most powerful hardware,the most powerful programming systems, and the most efficient algorithms to solve problems']\n"
     ]
    }
   ],
   "source": [
    "sent_tokenz = sent_tokenize(text)\n",
    "print(sent_tokenz)"
   ]
  },
  {
   "cell_type": "markdown",
   "metadata": {},
   "source": [
    "### Word Tokenization \n",
    "    - Breaking text paragraph into words "
   ]
  },
  {
   "cell_type": "code",
   "execution_count": 5,
   "metadata": {},
   "outputs": [
    {
     "name": "stdout",
     "output_type": "stream",
     "text": [
      "['Data', 'science', 'is', 'a', 'multi-disciplinary', 'field', 'that', 'uses', 'scientific', 'methods', ',', 'processes', ',', 'algorithms', 'and', 'systems', 'to', 'extract', 'knowledge', 'and', 'insights', 'from', 'structured', 'and', 'unstructured', 'data.Data', 'science', 'is', 'the', 'same', 'concept', 'as', 'data', 'mining', 'and', 'big', 'data', ':', '``', 'use', 'the', 'most', 'powerful', 'hardware', ',', 'the', 'most', 'powerful', 'programming', 'systems', ',', 'and', 'the', 'most', 'efficient', 'algorithms', 'to', 'solve', 'problems']\n"
     ]
    }
   ],
   "source": [
    "from nltk.tokenize import word_tokenize\n",
    "\n",
    "word_tokenz = word_tokenize(text)\n",
    "print(word_tokenz)"
   ]
  },
  {
   "cell_type": "markdown",
   "metadata": {},
   "source": [
    "### Frequency Distribution\n",
    "    - it returns the frequency of words"
   ]
  },
  {
   "cell_type": "code",
   "execution_count": 6,
   "metadata": {},
   "outputs": [
    {
     "name": "stdout",
     "output_type": "stream",
     "text": [
      "<FreqDist with 40 samples and 59 outcomes>\n"
     ]
    }
   ],
   "source": [
    "from nltk.probability import FreqDist\n",
    "freq_dist = FreqDist(word_tokenz)\n",
    "print(freq_dist)"
   ]
  },
  {
   "cell_type": "code",
   "execution_count": 7,
   "metadata": {},
   "outputs": [
    {
     "name": "stdout",
     "output_type": "stream",
     "text": [
      "[FreqDist({'and': 5, ',': 4, 'the': 4, 'most': 3, 'science': 2, 'is': 2, 'algorithms': 2, 'systems': 2, 'to': 2, 'data': 2, ...})]\n"
     ]
    }
   ],
   "source": [
    "print([freq_dist])"
   ]
  },
  {
   "cell_type": "code",
   "execution_count": 8,
   "metadata": {},
   "outputs": [
    {
     "data": {
      "text/plain": [
       "[('and', 5), (',', 4), ('the', 4)]"
      ]
     },
     "execution_count": 8,
     "metadata": {},
     "output_type": "execute_result"
    }
   ],
   "source": [
    "#finding most repeated words \n",
    "freq_dist.most_common(3)# most repeated 3 words"
   ]
  },
  {
   "cell_type": "code",
   "execution_count": 9,
   "metadata": {},
   "outputs": [],
   "source": [
    "from matplotlib import pyplot as plt"
   ]
  },
  {
   "cell_type": "code",
   "execution_count": 10,
   "metadata": {},
   "outputs": [
    {
     "data": {
      "image/png": "[encoded data removed]",
      "text/plain": [
       "<Figure size 432x288 with 1 Axes>"
      ]
     },
     "metadata": {
      "needs_background": "light"
     },
     "output_type": "display_data"
    }
   ],
   "source": [
    "freq_dist.plot(59,cumulative = False) "
   ]
  },
  {
   "cell_type": "markdown",
   "metadata": {},
   "source": [
    "    - from the above graph we can observe that the word 'and' has repeated for 5 times "
   ]
  },
  {
   "cell_type": "markdown",
   "metadata": {},
   "source": [
    "### Lexicon Normalization\n",
    "    -Lexical normalizaion, word normalization, or stemming, is the process of reducing words to their roots"
   ]
  },
  {
   "cell_type": "markdown",
   "metadata": {},
   "source": [
    "### Stemming\n",
    "    - it break down the word to its root form \n",
    "        * Ex : Walking, Walked, Walkable (Here the root word is walk(root word or stem) )"
   ]
  },
  {
   "cell_type": "code",
   "execution_count": 11,
   "metadata": {},
   "outputs": [],
   "source": [
    "from nltk.stem import PorterStemmer, LancasterStemmer,SnowballStemmer\n",
    "ps = PorterStemmer()\n",
    "ls = LancasterStemmer()\n",
    "ss = SnowballStemmer(language='english')"
   ]
  },
  {
   "cell_type": "code",
   "execution_count": 12,
   "metadata": {},
   "outputs": [
    {
     "name": "stdout",
     "output_type": "stream",
     "text": [
      "walk\n",
      "walk\n",
      "walk\n",
      "walk\n",
      "walk\n",
      "walk\n",
      "walkabl\n",
      "walk\n",
      "walkabl\n",
      "fli\n",
      "fly\n",
      "fli\n"
     ]
    }
   ],
   "source": [
    "lst = ['Walking', 'Walked', 'Walkable','flying']\n",
    "for i in lst:\n",
    "    print(ps.stem(i))\n",
    "    print(ls.stem(i))\n",
    "    print(ss.stem(i))"
   ]
  },
  {
   "cell_type": "markdown",
   "metadata": {},
   "source": [
    "### Lemmatization\n",
    "    -Lemmatization reduces words to their base word, which is linguistically correct lemmas. It transforms root word with the use of vocabulary and morphological analysis. "
   ]
  },
  {
   "cell_type": "code",
   "execution_count": 13,
   "metadata": {},
   "outputs": [
    {
     "name": "stdout",
     "output_type": "stream",
     "text": [
      "Walking\n",
      "Walked\n",
      "Walkable\n",
      "fly\n"
     ]
    }
   ],
   "source": [
    "from nltk.stem.wordnet import WordNetLemmatizer\n",
    "wl = WordNetLemmatizer()\n",
    "\n",
    "for i in lst:\n",
    "    print( wl.lemmatize(i,pos = 'v'))"
   ]
  },
  {
   "cell_type": "markdown",
   "metadata": {},
   "source": [
    "-LancasterStemmer and lemmatizer is giving proper word output"
   ]
  },
  {
   "cell_type": "markdown",
   "metadata": {},
   "source": [
    "### POS Tagging\n",
    "    - Part-of-Speech(POS) tagging is to identify the grammatical group of a given word. Whether it is a NOUN, PRONOUN, ADJECTIVE, VERB, ADVERBS, etc. based on the context. POS Tagging looks for relationships within the sentence and assigns a corresponding tag to the word."
   ]
  },
  {
   "cell_type": "code",
   "execution_count": 14,
   "metadata": {
    "collapsed": true
   },
   "outputs": [
    {
     "data": {
      "text/plain": [
       "[('Data', 'NNP'),\n",
       " ('science', 'NN'),\n",
       " ('is', 'VBZ'),\n",
       " ('a', 'DT'),\n",
       " ('multi-disciplinary', 'JJ'),\n",
       " ('field', 'NN'),\n",
       " ('that', 'WDT'),\n",
       " ('uses', 'VBZ'),\n",
       " ('scientific', 'JJ'),\n",
       " ('methods', 'NNS'),\n",
       " (',', ','),\n",
       " ('processes', 'NNS'),\n",
       " (',', ','),\n",
       " ('algorithms', 'NN'),\n",
       " ('and', 'CC'),\n",
       " ('systems', 'NNS'),\n",
       " ('to', 'TO'),\n",
       " ('extract', 'VB'),\n",
       " ('knowledge', 'NN'),\n",
       " ('and', 'CC'),\n",
       " ('insights', 'NNS'),\n",
       " ('from', 'IN'),\n",
       " ('structured', 'VBN'),\n",
       " ('and', 'CC'),\n",
       " ('unstructured', 'JJ'),\n",
       " ('data.Data', 'NN'),\n",
       " ('science', 'NN'),\n",
       " ('is', 'VBZ'),\n",
       " ('the', 'DT'),\n",
       " ('same', 'JJ'),\n",
       " ('concept', 'NN'),\n",
       " ('as', 'IN'),\n",
       " ('data', 'NNS'),\n",
       " ('mining', 'NN'),\n",
       " ('and', 'CC'),\n",
       " ('big', 'JJ'),\n",
       " ('data', 'NNS'),\n",
       " (':', ':'),\n",
       " ('``', '``'),\n",
       " ('use', 'IN'),\n",
       " ('the', 'DT'),\n",
       " ('most', 'RBS'),\n",
       " ('powerful', 'JJ'),\n",
       " ('hardware', 'NN'),\n",
       " (',', ','),\n",
       " ('the', 'DT'),\n",
       " ('most', 'RBS'),\n",
       " ('powerful', 'JJ'),\n",
       " ('programming', 'VBG'),\n",
       " ('systems', 'NNS'),\n",
       " (',', ','),\n",
       " ('and', 'CC'),\n",
       " ('the', 'DT'),\n",
       " ('most', 'RBS'),\n",
       " ('efficient', 'JJ'),\n",
       " ('algorithms', 'NN'),\n",
       " ('to', 'TO'),\n",
       " ('solve', 'VB'),\n",
       " ('problems', 'NNS')]"
      ]
     },
     "execution_count": 14,
     "metadata": {},
     "output_type": "execute_result"
    }
   ],
   "source": [
    "nltk.pos_tag(word_tokenz)"
   ]
  },
  {
   "cell_type": "markdown",
   "metadata": {},
   "source": [
    "# Sentimental Analysis\n",
    "    - its a process of extraction of opinion or attiude of the of the writer.\n",
    "    - Eg: classifing IMDB movie raitngs into positive, negitive, neutral "
   ]
  },
  {
   "cell_type": "code",
   "execution_count": 15,
   "metadata": {},
   "outputs": [],
   "source": [
    "from nltk.sentiment import SentimentIntensityAnalyzer\n",
    "\n",
    "senti = SentimentIntensityAnalyzer()"
   ]
  },
  {
   "cell_type": "code",
   "execution_count": 16,
   "metadata": {},
   "outputs": [
    {
     "data": {
      "text/plain": [
       "{'neg': 0.787, 'neu': 0.213, 'pos': 0.0, 'compound': -0.5719}"
      ]
     },
     "execution_count": 16,
     "metadata": {},
     "output_type": "execute_result"
    }
   ],
   "source": [
    "senti.polarity_scores('i hate this')"
   ]
  },
  {
   "cell_type": "code",
   "execution_count": 18,
   "metadata": {},
   "outputs": [],
   "source": [
    "import pandas as pd"
   ]
  },
  {
   "cell_type": "code",
   "execution_count": 56,
   "metadata": {},
   "outputs": [
    {
     "data": {
      "text/html": [
       "<div>\n",
       "<style scoped>\n",
       "    .dataframe tbody tr th:only-of-type {\n",
       "        vertical-align: middle;\n",
       "    }\n",
       "\n",
       "    .dataframe tbody tr th {\n",
       "        vertical-align: top;\n",
       "    }\n",
       "\n",
       "    .dataframe thead th {\n",
       "        text-align: right;\n",
       "    }\n",
       "</style>\n",
       "<table border=\"1\" class=\"dataframe\">\n",
       "  <thead>\n",
       "    <tr style=\"text-align: right;\">\n",
       "      <th></th>\n",
       "      <th>reviewText</th>\n",
       "    </tr>\n",
       "  </thead>\n",
       "  <tbody>\n",
       "    <tr>\n",
       "      <th>0</th>\n",
       "      <td>What I recieved is not what is pictured here O...</td>\n",
       "    </tr>\n",
       "    <tr>\n",
       "      <th>1</th>\n",
       "      <td>Excellent unit and a pretty simple install usi...</td>\n",
       "    </tr>\n",
       "    <tr>\n",
       "      <th>2</th>\n",
       "      <td>I'm enjoying this keyboard, I'm getting anothe...</td>\n",
       "    </tr>\n",
       "    <tr>\n",
       "      <th>3</th>\n",
       "      <td>Overall, this is a fantastic camera that I'm e...</td>\n",
       "    </tr>\n",
       "    <tr>\n",
       "      <th>4</th>\n",
       "      <td>These work very well with mySamsung PN64D7000 ...</td>\n",
       "    </tr>\n",
       "    <tr>\n",
       "      <th>5</th>\n",
       "      <td>Its much more powerful then I expected!!!!!BIG...</td>\n",
       "    </tr>\n",
       "    <tr>\n",
       "      <th>6</th>\n",
       "      <td>A lot of computer fans come with the small 3 p...</td>\n",
       "    </tr>\n",
       "    <tr>\n",
       "      <th>7</th>\n",
       "      <td>I finally found a 10 foot lightning cable to r...</td>\n",
       "    </tr>\n",
       "    <tr>\n",
       "      <th>8</th>\n",
       "      <td>VERY POOR QUALITY I USED IT ONCE AND THE CONNE...</td>\n",
       "    </tr>\n",
       "    <tr>\n",
       "      <th>9</th>\n",
       "      <td>I got this camera *years* ago!  I still work w...</td>\n",
       "    </tr>\n",
       "  </tbody>\n",
       "</table>\n",
       "</div>"
      ],
      "text/plain": [
       "                                          reviewText\n",
       "0  What I recieved is not what is pictured here O...\n",
       "1  Excellent unit and a pretty simple install usi...\n",
       "2  I'm enjoying this keyboard, I'm getting anothe...\n",
       "3  Overall, this is a fantastic camera that I'm e...\n",
       "4  These work very well with mySamsung PN64D7000 ...\n",
       "5  Its much more powerful then I expected!!!!!BIG...\n",
       "6  A lot of computer fans come with the small 3 p...\n",
       "7  I finally found a 10 foot lightning cable to r...\n",
       "8  VERY POOR QUALITY I USED IT ONCE AND THE CONNE...\n",
       "9  I got this camera *years* ago!  I still work w..."
      ]
     },
     "execution_count": 56,
     "metadata": {},
     "output_type": "execute_result"
    }
   ],
   "source": [
    "data = pd.read_csv(r'D:\\Term-3\\Unstructured Data\\data_sets\\amazon_reviews_big.csv')\n",
    "main_data = data.drop(['asin',\n",
    " 'overall',\n",
    " \n",
    " 'reviewTime',\n",
    " 'reviewerID',\n",
    " 'reviewerName',\n",
    " 'summary',\n",
    " 'unixReviewTime'],axis=1)\n",
    "main_data= main_data[:10:]\n",
    "main_data"
   ]
  },
  {
   "cell_type": "code",
   "execution_count": 46,
   "metadata": {},
   "outputs": [
    {
     "data": {
      "text/plain": [
       "['asin',\n",
       " 'overall',\n",
       " 'reviewText',\n",
       " 'reviewTime',\n",
       " 'reviewerID',\n",
       " 'reviewerName',\n",
       " 'summary',\n",
       " 'unixReviewTime']"
      ]
     },
     "execution_count": 46,
     "metadata": {},
     "output_type": "execute_result"
    }
   ],
   "source": [
    "list(main_data)"
   ]
  },
  {
   "cell_type": "code",
   "execution_count": 60,
   "metadata": {},
   "outputs": [
    {
     "data": {
      "text/html": [
       "<div>\n",
       "<style scoped>\n",
       "    .dataframe tbody tr th:only-of-type {\n",
       "        vertical-align: middle;\n",
       "    }\n",
       "\n",
       "    .dataframe tbody tr th {\n",
       "        vertical-align: top;\n",
       "    }\n",
       "\n",
       "    .dataframe thead th {\n",
       "        text-align: right;\n",
       "    }\n",
       "</style>\n",
       "<table border=\"1\" class=\"dataframe\">\n",
       "  <thead>\n",
       "    <tr style=\"text-align: right;\">\n",
       "      <th></th>\n",
       "      <th>reviewText</th>\n",
       "      <th>Compound_Score</th>\n",
       "    </tr>\n",
       "  </thead>\n",
       "  <tbody>\n",
       "    <tr>\n",
       "      <th>0</th>\n",
       "      <td>What I recieved is not what is pictured here O...</td>\n",
       "      <td>0.8449</td>\n",
       "    </tr>\n",
       "    <tr>\n",
       "      <th>1</th>\n",
       "      <td>Excellent unit and a pretty simple install usi...</td>\n",
       "      <td>0.9307</td>\n",
       "    </tr>\n",
       "    <tr>\n",
       "      <th>2</th>\n",
       "      <td>I'm enjoying this keyboard, I'm getting anothe...</td>\n",
       "      <td>0.9921</td>\n",
       "    </tr>\n",
       "    <tr>\n",
       "      <th>3</th>\n",
       "      <td>Overall, this is a fantastic camera that I'm e...</td>\n",
       "      <td>0.5047</td>\n",
       "    </tr>\n",
       "    <tr>\n",
       "      <th>4</th>\n",
       "      <td>These work very well with mySamsung PN64D7000 ...</td>\n",
       "      <td>0.9359</td>\n",
       "    </tr>\n",
       "    <tr>\n",
       "      <th>5</th>\n",
       "      <td>Its much more powerful then I expected!!!!!BIG...</td>\n",
       "      <td>0.9506</td>\n",
       "    </tr>\n",
       "    <tr>\n",
       "      <th>6</th>\n",
       "      <td>A lot of computer fans come with the small 3 p...</td>\n",
       "      <td>0.5719</td>\n",
       "    </tr>\n",
       "    <tr>\n",
       "      <th>7</th>\n",
       "      <td>I finally found a 10 foot lightning cable to r...</td>\n",
       "      <td>0.4215</td>\n",
       "    </tr>\n",
       "    <tr>\n",
       "      <th>8</th>\n",
       "      <td>VERY POOR QUALITY I USED IT ONCE AND THE CONNE...</td>\n",
       "      <td>-0.8743</td>\n",
       "    </tr>\n",
       "    <tr>\n",
       "      <th>9</th>\n",
       "      <td>I got this camera *years* ago!  I still work w...</td>\n",
       "      <td>0.9607</td>\n",
       "    </tr>\n",
       "  </tbody>\n",
       "</table>\n",
       "</div>"
      ],
      "text/plain": [
       "                                          reviewText  Compound_Score\n",
       "0  What I recieved is not what is pictured here O...          0.8449\n",
       "1  Excellent unit and a pretty simple install usi...          0.9307\n",
       "2  I'm enjoying this keyboard, I'm getting anothe...          0.9921\n",
       "3  Overall, this is a fantastic camera that I'm e...          0.5047\n",
       "4  These work very well with mySamsung PN64D7000 ...          0.9359\n",
       "5  Its much more powerful then I expected!!!!!BIG...          0.9506\n",
       "6  A lot of computer fans come with the small 3 p...          0.5719\n",
       "7  I finally found a 10 foot lightning cable to r...          0.4215\n",
       "8  VERY POOR QUALITY I USED IT ONCE AND THE CONNE...         -0.8743\n",
       "9  I got this camera *years* ago!  I still work w...          0.9607"
      ]
     },
     "execution_count": 60,
     "metadata": {},
     "output_type": "execute_result"
    }
   ],
   "source": [
    "main_data['Compound_Score'] = main_data['reviewText'].apply(lambda x: senti.polarity_scores(x)['compound'])\n",
    "main_data"
   ]
  },
  {
   "cell_type": "code",
   "execution_count": null,
   "metadata": {},
   "outputs": [],
   "source": []
  }
 ],
 "metadata": {
  "kernelspec": {
   "display_name": "Python 3",
   "language": "python",
   "name": "python3"
  },
  "language_info": {
   "codemirror_mode": {
    "name": "ipython",
    "version": 3
   },
   "file_extension": ".py",
   "mimetype": "text/x-python",
   "name": "python",
   "nbconvert_exporter": "python",
   "pygments_lexer": "ipython3",
   "version": "3.7.3"
  }
 },
 "nbformat": 4,
 "nbformat_minor": 2
}
